{
 "cells": [
  {
   "cell_type": "code",
   "execution_count": 2,
   "id": "5c6f43e8",
   "metadata": {},
   "outputs": [
    {
     "name": "stdout",
     "output_type": "stream",
     "text": [
      "3\n"
     ]
    }
   ],
   "source": [
    "n = int(input())\n",
    "groupnum = 0"
   ]
  },
  {
   "cell_type": "code",
   "execution_count": 3,
   "id": "26fede2b",
   "metadata": {},
   "outputs": [
    {
     "name": "stdout",
     "output_type": "stream",
     "text": [
      "happy\n",
      "new\n",
      "year\n",
      "7\n"
     ]
    }
   ],
   "source": [
    "for i in range(n):\n",
    "    word = input()\n",
    "    for index in range(len(word)-1):\n",
    "        if word[index] == word[index+1]:\n",
    "            break\n",
    "        else :\n",
    "            groupnum += 1\n",
    "\n",
    "print(groupnum)"
   ]
  },
  {
   "cell_type": "code",
   "execution_count": null,
   "id": "ba6e2ed2",
   "metadata": {},
   "outputs": [],
   "source": []
  }
 ],
 "metadata": {
  "kernelspec": {
   "display_name": "Python 3",
   "language": "python",
   "name": "python3"
  },
  "language_info": {
   "codemirror_mode": {
    "name": "ipython",
    "version": 3
   },
   "file_extension": ".py",
   "mimetype": "text/x-python",
   "name": "python",
   "nbconvert_exporter": "python",
   "pygments_lexer": "ipython3",
   "version": "3.8.8"
  }
 },
 "nbformat": 4,
 "nbformat_minor": 5
}
