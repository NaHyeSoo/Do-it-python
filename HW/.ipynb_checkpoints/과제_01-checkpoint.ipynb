{
 "cells": [
  {
   "cell_type": "code",
   "execution_count": null,
   "id": "064f0a9a",
   "metadata": {},
   "outputs": [],
   "source": [
    "import pandas as pd  ## pandas 모듈 불러오기 \n",
    "\n",
    "## 파일 불러오기 / 파일을 개행문자로 줄별로 나눴음\n",
    "import os\n",
    "\n",
    "os.chdir(\"C:/Users/naban/Desktop/py4e/HW\")\n",
    "\n",
    "with open(\"example_01.txt\",\"r\") as file:\n",
    "    contents = file.read().split(\"\\n\")\n",
    "\n",
    "## 한줄씩 불러온 데이터를 tab으로 나눠 한칸씩 분리하여 리스트에 넣음 (이중리스트)\n",
    "originaldata = list()\n",
    "for i in contents : \n",
    "    originaldata.append(i.split(\"\\t\"))\n",
    "\n",
    "#print(originaldata)    \n",
    "    \n",
    "print(pd.DataFrame(originaldata))\n",
    "\n",
    "# for i in originaldata:\n",
    "#  print(i)"
   ]
  },
  {
   "cell_type": "code",
   "execution_count": 6,
   "id": "8a56398d",
   "metadata": {},
   "outputs": [],
   "source": [
    "### 데이터를 trait별로 구분하기\n",
    "trait_1 = []\n",
    "\n",
    "# for i in range(1,len(originaldata)-1):\n",
    "#     if originaldata[i][0] == '1':\n",
    "#         trait_1.append(originaldata[i][:])"
   ]
  },
  {
   "cell_type": "code",
   "execution_count": null,
   "id": "ae16cae2",
   "metadata": {},
   "outputs": [],
   "source": []
  }
 ],
 "metadata": {
  "kernelspec": {
   "display_name": "Python 3",
   "language": "python",
   "name": "python3"
  },
  "language_info": {
   "codemirror_mode": {
    "name": "ipython",
    "version": 3
   },
   "file_extension": ".py",
   "mimetype": "text/x-python",
   "name": "python",
   "nbconvert_exporter": "python",
   "pygments_lexer": "ipython3",
   "version": "3.8.8"
  }
 },
 "nbformat": 4,
 "nbformat_minor": 5
}
