{
 "cells": [
  {
   "cell_type": "code",
   "execution_count": 5,
   "id": "67c6f0f5",
   "metadata": {},
   "outputs": [
    {
     "name": "stdout",
     "output_type": "stream",
     "text": [
      "          0       1       2       3       4     5     6      7     8      9\n",
      "0     trait  animal      pe    sire     dam   sex  year  month   man  trait\n",
      "1         1  M10001  M10001     101      25     2  2010     16     1      5\n",
      "2         1  M10001  M10001     101      25     2  2010     16     3      4\n",
      "3         1  M10001  M10001     101      25     2  2010     16     6      4\n",
      "4         1  F10002  F10002     101       2     1  2010     16     1      4\n",
      "...     ...     ...     ...     ...     ...   ...   ...    ...   ...    ...\n",
      "3169      5  M15021  M15021  M11052  F10046     2  2015     16     7      5\n",
      "3170      5  F15022  F15022  M10032  F10031     1  2015     16     3      4\n",
      "3171      5  F15022  F15022  M10032  F10031     1  2015     16     6      5\n",
      "3172      5  F15022  F15022  M10032  F10031     1  2015     16     7      4\n",
      "3173           None    None    None    None  None  None   None  None   None\n",
      "\n",
      "[3174 rows x 10 columns]\n"
     ]
    }
   ],
   "source": [
    "import pandas as pd  ## pandas 모듈 불러오기 \n",
    "\n",
    "## 파일 불러오기 / 파일을 개행문자로 줄별로 나눴음\n",
    "import os\n",
    "\n",
    "os.chdir(\"C:/Users/naban/Desktop/py4e/HW\")\n",
    "\n",
    "with open(\"example_01.txt\",\"r\") as file:\n",
    "    contents = file.read().split(\"\\n\")\n",
    "\n",
    "## 한줄씩 불러온 데이터를 tab으로 나눠 한칸씩 분리하여 리스트에 넣음 (이중리스트)\n",
    "originaldata = list()\n",
    "for i in contents : \n",
    "    originaldata.append(i.split(\"\\t\"))\n",
    "\n",
    "#print(originaldata)    \n",
    "    \n",
    "print(pd.DataFrame(originaldata))\n",
    "\n",
    "# for i in originaldata:\n",
    "#  print(i)"
   ]
  },
  {
   "cell_type": "code",
   "execution_count": 6,
   "id": "8a56398d",
   "metadata": {},
   "outputs": [],
   "source": [
    "### 데이터를 trait별로 구분하기\n",
    "trait_1 = []\n",
    "\n",
    "# for i in range(1,len(originaldata)-1):\n",
    "#     if originaldata[i][0] == '1':\n",
    "#         trait_1.append(originaldata[i][:])"
   ]
  },
  {
   "cell_type": "code",
   "execution_count": null,
   "id": "ae16cae2",
   "metadata": {},
   "outputs": [],
   "source": []
  }
 ],
 "metadata": {
  "kernelspec": {
   "display_name": "Python 3",
   "language": "python",
   "name": "python3"
  },
  "language_info": {
   "codemirror_mode": {
    "name": "ipython",
    "version": 3
   },
   "file_extension": ".py",
   "mimetype": "text/x-python",
   "name": "python",
   "nbconvert_exporter": "python",
   "pygments_lexer": "ipython3",
   "version": "3.8.8"
  }
 },
 "nbformat": 4,
 "nbformat_minor": 5
}
